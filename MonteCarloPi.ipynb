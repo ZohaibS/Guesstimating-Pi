{
 "cells": [
  {
   "cell_type": "code",
   "execution_count": 24,
   "metadata": {},
   "outputs": [
    {
     "name": "stdout",
     "output_type": "stream",
     "text": [
      "3.1425844\n"
     ]
    }
   ],
   "source": [
    "import random as r\n",
    "import math as m\n",
    "\n",
    "#Counting darts that hit our circle.\n",
    "hit_count = 0\n",
    "#Total darts we will throw\n",
    "darts = 10000000\n",
    "\n",
    "#Iterating dart throws.\n",
    "for i in range(0, darts):\n",
    "  #Random values in [0, 1].\n",
    "    x2 = r.random()**2\n",
    "    y2 = r.random()**2\n",
    "    #Go counter!\n",
    "    if m.sqrt(x2 + y2) < 1.0:\n",
    "        hit_count += 1\n",
    "\n",
    "# Multiplying by 4 since we are only dealing with one quadrant.\n",
    "pi_guesstimate = (float(hit_count) / darts) * 4\n",
    "\n",
    "print(pi_guesstimate)"
   ]
  },
  {
   "cell_type": "code",
   "execution_count": null,
   "metadata": {},
   "outputs": [],
   "source": []
  },
  {
   "cell_type": "code",
   "execution_count": null,
   "metadata": {},
   "outputs": [],
   "source": []
  }
 ],
 "metadata": {
  "kernelspec": {
   "display_name": "Python 3",
   "language": "python",
   "name": "python3"
  },
  "language_info": {
   "codemirror_mode": {
    "name": "ipython",
    "version": 3
   },
   "file_extension": ".py",
   "mimetype": "text/x-python",
   "name": "python",
   "nbconvert_exporter": "python",
   "pygments_lexer": "ipython3",
   "version": "3.6.4"
  }
 },
 "nbformat": 4,
 "nbformat_minor": 2
}
